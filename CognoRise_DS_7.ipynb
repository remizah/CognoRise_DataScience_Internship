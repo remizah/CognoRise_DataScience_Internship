{
  "nbformat": 4,
  "nbformat_minor": 0,
  "metadata": {
    "colab": {
      "provenance": [],
      "authorship_tag": "ABX9TyMQiIHJoPeW0ep3bxC2s2xt",
      "include_colab_link": true
    },
    "kernelspec": {
      "name": "python3",
      "display_name": "Python 3"
    },
    "language_info": {
      "name": "python"
    }
  },
  "cells": [
    {
      "cell_type": "markdown",
      "metadata": {
        "id": "view-in-github",
        "colab_type": "text"
      },
      "source": [
        "<a href=\"https://colab.research.google.com/github/remizah/CognoRise_DataScience_Internship/blob/main/CognoRise_DS_7.ipynb\" target=\"_parent\"><img src=\"https://colab.research.google.com/assets/colab-badge.svg\" alt=\"Open In Colab\"/></a>"
      ]
    },
    {
      "cell_type": "code",
      "execution_count": 21,
      "metadata": {
        "id": "JhcZf0dsQ827"
      },
      "outputs": [],
      "source": [
        "import pandas as pd\n",
        "import numpy as np\n",
        "import matplotlib.pyplot as plt\n",
        "import seaborn as sns\n",
        "from sklearn.model_selection import train_test_split\n",
        "from sklearn.feature_extraction.text import TfidfVectorizer\n",
        "from sklearn.linear_model import LogisticRegression\n",
        "from sklearn.metrics import classification_report, confusion_matrix, accuracy_score\n",
        "from sklearn.preprocessing import LabelEncoder\n"
      ]
    },
    {
      "cell_type": "code",
      "source": [
        "\n",
        "# Load the dataset with appropriate encoding\n",
        "try:\n",
        "    df = pd.read_csv('/content/TeePublic_review.csv', encoding='utf-8')\n",
        "except UnicodeDecodeError:\n",
        "    df = pd.read_csv('/content/TeePublic_review.csv', encoding='latin1')\n"
      ],
      "metadata": {
        "id": "hZ3bcN4ST5Zc"
      },
      "execution_count": 22,
      "outputs": []
    },
    {
      "cell_type": "code",
      "source": [
        "\n",
        "# Explore the dataset\n",
        "print(df.head())\n",
        "print(df.info())\n"
      ],
      "metadata": {
        "colab": {
          "base_uri": "https://localhost:8080/"
        },
        "id": "qkSG2PV-T-Sb",
        "outputId": "8fead5f7-6058-4063-9fe9-f9208768a82d"
      },
      "execution_count": 23,
      "outputs": [
        {
          "output_type": "stream",
          "name": "stdout",
          "text": [
            "   reviewer_id store_location   latitude   longitude  date  month  \\\n",
            "0          0.0             US  37.090240  -95.712891  2023      6   \n",
            "1          1.0             US  37.090240  -95.712891  2023      6   \n",
            "2          2.0             US  37.090240  -95.712891  2023      6   \n",
            "3          3.0             US  37.090240  -95.712891  2023      6   \n",
            "4          4.0             CA  56.130366 -106.346771  2023      6   \n",
            "\n",
            "            year                                          title  \\\n",
            "0  2015 00:00:00                     Great help with lost order   \n",
            "1  2024 00:00:00  I ordered the wrong size tee and hadï¿½ï¿½ï¿½   \n",
            "2  2017 00:00:00    These guys offer the best customerï¿½ï¿½ï¿½   \n",
            "3  2024 00:00:00                                     Good Stuff   \n",
            "4  2023 00:00:00     My order arrived in a good timelyï¿½ï¿½ï¿½   \n",
            "\n",
            "                                              review  review-label  \n",
            "0  I had an order that was lost in transit. When ...             5  \n",
            "1  I ordered the wrong size tee and had difficult...             5  \n",
            "2  These guys offer the best customer service in ...             5  \n",
            "3  Looked for an obscure phrase on a shirt. Teepu...             5  \n",
            "4  My order arrived in a good timely fashion & th...             4  \n",
            "<class 'pandas.core.frame.DataFrame'>\n",
            "RangeIndex: 278100 entries, 0 to 278099\n",
            "Data columns (total 10 columns):\n",
            " #   Column          Non-Null Count   Dtype  \n",
            "---  ------          --------------   -----  \n",
            " 0   reviewer_id     278099 non-null  float64\n",
            " 1   store_location  278100 non-null  object \n",
            " 2   latitude        278100 non-null  float64\n",
            " 3   longitude       278100 non-null  float64\n",
            " 4   date            278100 non-null  int64  \n",
            " 5   month           278100 non-null  int64  \n",
            " 6   year            278100 non-null  object \n",
            " 7   title           278088 non-null  object \n",
            " 8   review          247597 non-null  object \n",
            " 9   review-label    278100 non-null  int64  \n",
            "dtypes: float64(3), int64(3), object(4)\n",
            "memory usage: 21.2+ MB\n",
            "None\n"
          ]
        }
      ]
    },
    {
      "cell_type": "code",
      "source": [
        "\n",
        "# Check for missing values\n",
        "print(df.isnull().sum())\n",
        "\n"
      ],
      "metadata": {
        "colab": {
          "base_uri": "https://localhost:8080/"
        },
        "id": "hxD4a7qyUBn9",
        "outputId": "ee3d14fe-e96a-47b9-a333-4d0a38e4f1b4"
      },
      "execution_count": 24,
      "outputs": [
        {
          "output_type": "stream",
          "name": "stdout",
          "text": [
            "reviewer_id           1\n",
            "store_location        0\n",
            "latitude              0\n",
            "longitude             0\n",
            "date                  0\n",
            "month                 0\n",
            "year                  0\n",
            "title                12\n",
            "review            30503\n",
            "review-label          0\n",
            "dtype: int64\n"
          ]
        }
      ]
    },
    {
      "cell_type": "code",
      "source": [
        "\n",
        "# Drop rows with missing values\n",
        "df.dropna(inplace=True)\n",
        "\n"
      ],
      "metadata": {
        "id": "7CBqnnSYUFK8"
      },
      "execution_count": 25,
      "outputs": []
    },
    {
      "cell_type": "code",
      "source": [
        "\n",
        "# Verify that there are no missing values left\n",
        "print(df.isnull().sum())\n"
      ],
      "metadata": {
        "colab": {
          "base_uri": "https://localhost:8080/"
        },
        "id": "1p5rzyboUUC-",
        "outputId": "d0c2ad1e-5c94-438d-9e21-f069dcf85265"
      },
      "execution_count": 26,
      "outputs": [
        {
          "output_type": "stream",
          "name": "stdout",
          "text": [
            "reviewer_id       0\n",
            "store_location    0\n",
            "latitude          0\n",
            "longitude         0\n",
            "date              0\n",
            "month             0\n",
            "year              0\n",
            "title             0\n",
            "review            0\n",
            "review-label      0\n",
            "dtype: int64\n"
          ]
        }
      ]
    },
    {
      "cell_type": "code",
      "source": [
        "\n",
        "# Convert date to datetime\n",
        "df['date'] = pd.to_datetime(df['date'])\n"
      ],
      "metadata": {
        "id": "tO_amKa2UehI"
      },
      "execution_count": 27,
      "outputs": []
    },
    {
      "cell_type": "code",
      "source": [
        "\n",
        "# Extract additional time features\n",
        "df['month'] = df['date'].dt.month\n",
        "df['year'] = df['date'].dt.year\n",
        "\n"
      ],
      "metadata": {
        "id": "W6CnVnmhUhiL"
      },
      "execution_count": 28,
      "outputs": []
    },
    {
      "cell_type": "code",
      "source": [
        "# Encode the review labels\n",
        "label_encoder = LabelEncoder()\n",
        "df['review-label'] = label_encoder.fit_transform(df['review-label'])\n",
        "\n"
      ],
      "metadata": {
        "id": "3Ws2ESOdUkT5"
      },
      "execution_count": 29,
      "outputs": []
    },
    {
      "cell_type": "code",
      "source": [
        "# Feature extraction using TF-IDF\n",
        "tfidf = TfidfVectorizer(stop_words='english', max_features=10000)\n",
        "X = tfidf.fit_transform(df['review'])\n",
        "\n"
      ],
      "metadata": {
        "id": "3OBPhrU0UmuB"
      },
      "execution_count": 30,
      "outputs": []
    },
    {
      "cell_type": "code",
      "source": [
        "# Target variable\n",
        "y = df['review-label']\n"
      ],
      "metadata": {
        "id": "533Y0g_rUwmf"
      },
      "execution_count": 31,
      "outputs": []
    },
    {
      "cell_type": "code",
      "source": [
        "\n",
        "# Split the data into training and testing sets\n",
        "X_train, X_test, y_train, y_test = train_test_split(X, y, test_size=0.2, random_state=42)\n",
        "\n"
      ],
      "metadata": {
        "id": "oZ5OQ7jxU5gu"
      },
      "execution_count": 32,
      "outputs": []
    },
    {
      "cell_type": "code",
      "source": [
        "# Train a Logistic Regression model\n",
        "model = LogisticRegression(max_iter=1000, random_state=42)\n",
        "model.fit(X_train, y_train)\n",
        "\n"
      ],
      "metadata": {
        "colab": {
          "base_uri": "https://localhost:8080/",
          "height": 74
        },
        "id": "ufzrzhdiU-fm",
        "outputId": "aed089ae-093f-4ac0-f4c1-78bb804f3bc5"
      },
      "execution_count": 33,
      "outputs": [
        {
          "output_type": "execute_result",
          "data": {
            "text/plain": [
              "LogisticRegression(max_iter=1000, random_state=42)"
            ],
            "text/html": [
              "<style>#sk-container-id-2 {color: black;background-color: white;}#sk-container-id-2 pre{padding: 0;}#sk-container-id-2 div.sk-toggleable {background-color: white;}#sk-container-id-2 label.sk-toggleable__label {cursor: pointer;display: block;width: 100%;margin-bottom: 0;padding: 0.3em;box-sizing: border-box;text-align: center;}#sk-container-id-2 label.sk-toggleable__label-arrow:before {content: \"▸\";float: left;margin-right: 0.25em;color: #696969;}#sk-container-id-2 label.sk-toggleable__label-arrow:hover:before {color: black;}#sk-container-id-2 div.sk-estimator:hover label.sk-toggleable__label-arrow:before {color: black;}#sk-container-id-2 div.sk-toggleable__content {max-height: 0;max-width: 0;overflow: hidden;text-align: left;background-color: #f0f8ff;}#sk-container-id-2 div.sk-toggleable__content pre {margin: 0.2em;color: black;border-radius: 0.25em;background-color: #f0f8ff;}#sk-container-id-2 input.sk-toggleable__control:checked~div.sk-toggleable__content {max-height: 200px;max-width: 100%;overflow: auto;}#sk-container-id-2 input.sk-toggleable__control:checked~label.sk-toggleable__label-arrow:before {content: \"▾\";}#sk-container-id-2 div.sk-estimator input.sk-toggleable__control:checked~label.sk-toggleable__label {background-color: #d4ebff;}#sk-container-id-2 div.sk-label input.sk-toggleable__control:checked~label.sk-toggleable__label {background-color: #d4ebff;}#sk-container-id-2 input.sk-hidden--visually {border: 0;clip: rect(1px 1px 1px 1px);clip: rect(1px, 1px, 1px, 1px);height: 1px;margin: -1px;overflow: hidden;padding: 0;position: absolute;width: 1px;}#sk-container-id-2 div.sk-estimator {font-family: monospace;background-color: #f0f8ff;border: 1px dotted black;border-radius: 0.25em;box-sizing: border-box;margin-bottom: 0.5em;}#sk-container-id-2 div.sk-estimator:hover {background-color: #d4ebff;}#sk-container-id-2 div.sk-parallel-item::after {content: \"\";width: 100%;border-bottom: 1px solid gray;flex-grow: 1;}#sk-container-id-2 div.sk-label:hover label.sk-toggleable__label {background-color: #d4ebff;}#sk-container-id-2 div.sk-serial::before {content: \"\";position: absolute;border-left: 1px solid gray;box-sizing: border-box;top: 0;bottom: 0;left: 50%;z-index: 0;}#sk-container-id-2 div.sk-serial {display: flex;flex-direction: column;align-items: center;background-color: white;padding-right: 0.2em;padding-left: 0.2em;position: relative;}#sk-container-id-2 div.sk-item {position: relative;z-index: 1;}#sk-container-id-2 div.sk-parallel {display: flex;align-items: stretch;justify-content: center;background-color: white;position: relative;}#sk-container-id-2 div.sk-item::before, #sk-container-id-2 div.sk-parallel-item::before {content: \"\";position: absolute;border-left: 1px solid gray;box-sizing: border-box;top: 0;bottom: 0;left: 50%;z-index: -1;}#sk-container-id-2 div.sk-parallel-item {display: flex;flex-direction: column;z-index: 1;position: relative;background-color: white;}#sk-container-id-2 div.sk-parallel-item:first-child::after {align-self: flex-end;width: 50%;}#sk-container-id-2 div.sk-parallel-item:last-child::after {align-self: flex-start;width: 50%;}#sk-container-id-2 div.sk-parallel-item:only-child::after {width: 0;}#sk-container-id-2 div.sk-dashed-wrapped {border: 1px dashed gray;margin: 0 0.4em 0.5em 0.4em;box-sizing: border-box;padding-bottom: 0.4em;background-color: white;}#sk-container-id-2 div.sk-label label {font-family: monospace;font-weight: bold;display: inline-block;line-height: 1.2em;}#sk-container-id-2 div.sk-label-container {text-align: center;}#sk-container-id-2 div.sk-container {/* jupyter's `normalize.less` sets `[hidden] { display: none; }` but bootstrap.min.css set `[hidden] { display: none !important; }` so we also need the `!important` here to be able to override the default hidden behavior on the sphinx rendered scikit-learn.org. See: https://github.com/scikit-learn/scikit-learn/issues/21755 */display: inline-block !important;position: relative;}#sk-container-id-2 div.sk-text-repr-fallback {display: none;}</style><div id=\"sk-container-id-2\" class=\"sk-top-container\"><div class=\"sk-text-repr-fallback\"><pre>LogisticRegression(max_iter=1000, random_state=42)</pre><b>In a Jupyter environment, please rerun this cell to show the HTML representation or trust the notebook. <br />On GitHub, the HTML representation is unable to render, please try loading this page with nbviewer.org.</b></div><div class=\"sk-container\" hidden><div class=\"sk-item\"><div class=\"sk-estimator sk-toggleable\"><input class=\"sk-toggleable__control sk-hidden--visually\" id=\"sk-estimator-id-2\" type=\"checkbox\" checked><label for=\"sk-estimator-id-2\" class=\"sk-toggleable__label sk-toggleable__label-arrow\">LogisticRegression</label><div class=\"sk-toggleable__content\"><pre>LogisticRegression(max_iter=1000, random_state=42)</pre></div></div></div></div></div>"
            ]
          },
          "metadata": {},
          "execution_count": 33
        }
      ]
    },
    {
      "cell_type": "code",
      "source": [
        "# Make predictions\n",
        "y_pred = model.predict(X_test)\n",
        "\n"
      ],
      "metadata": {
        "id": "j3oWUZhwVEVf"
      },
      "execution_count": 34,
      "outputs": []
    },
    {
      "cell_type": "code",
      "source": [
        "# Evaluate the model\n",
        "print(\"Accuracy:\", accuracy_score(y_test, y_pred))\n",
        "print(\"Classification Report:\\n\", classification_report(y_test, y_pred))\n",
        "print(\"Confusion Matrix:\\n\", confusion_matrix(y_test, y_pred))\n",
        "\n"
      ],
      "metadata": {
        "colab": {
          "base_uri": "https://localhost:8080/"
        },
        "id": "fyyXHeXZVJo-",
        "outputId": "78dfae16-6537-4c38-b32c-0921c28ce935"
      },
      "execution_count": 35,
      "outputs": [
        {
          "output_type": "stream",
          "name": "stdout",
          "text": [
            "Accuracy: 0.8054040954804313\n",
            "Classification Report:\n",
            "               precision    recall  f1-score   support\n",
            "\n",
            "           0       0.58      0.66      0.62      3375\n",
            "           1       0.36      0.13      0.20      2203\n",
            "           2       0.40      0.31      0.35      3150\n",
            "           3       0.50      0.26      0.34      4657\n",
            "           4       0.88      0.97      0.92     36133\n",
            "\n",
            "    accuracy                           0.81     49518\n",
            "   macro avg       0.54      0.47      0.49     49518\n",
            "weighted avg       0.77      0.81      0.78     49518\n",
            "\n",
            "Confusion Matrix:\n",
            " [[ 2232   224   317    48   554]\n",
            " [  828   296   528    99   452]\n",
            " [  478   235   967   451  1019]\n",
            " [  148    47   475  1212  2775]\n",
            " [  184    22   154   598 35175]]\n"
          ]
        }
      ]
    },
    {
      "cell_type": "code",
      "source": [
        "# Visualize the confusion matrix\n",
        "conf_matrix = confusion_matrix(y_test, y_pred)\n",
        "plt.figure(figsize=(8, 6))\n",
        "sns.heatmap(conf_matrix, annot=True, fmt='d', cmap='Blues', xticklabels=label_encoder.classes_, yticklabels=label_encoder.classes_)\n",
        "plt.xlabel('Predicted')\n",
        "plt.ylabel('Actual')\n",
        "plt.title('Confusion Matrix')\n",
        "plt.show()"
      ],
      "metadata": {
        "colab": {
          "base_uri": "https://localhost:8080/",
          "height": 564
        },
        "id": "ORqh3_fAVMfC",
        "outputId": "635beed9-e0a9-4003-b2ce-1e8fd82c794f"
      },
      "execution_count": 36,
      "outputs": [
        {
          "output_type": "display_data",
          "data": {
            "text/plain": [
              "<Figure size 800x600 with 2 Axes>"
            ],
            "image/png": "[encoded data removed]"
          },
          "metadata": {}
        }
      ]
    }
  ]
}